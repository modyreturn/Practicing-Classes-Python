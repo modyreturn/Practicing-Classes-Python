{
 "cells": [
  {
   "cell_type": "code",
   "execution_count": 2,
   "id": "ea65bab4-895a-4f94-96cc-29da4b88c7ef",
   "metadata": {
    "scrolled": true
   },
   "outputs": [
    {
     "name": "stdout",
     "output_type": "stream",
     "text": [
      "Practicing Classes in Python\n",
      "Welcome Mohamed You have a Basic plan, Enjoy!\n",
      "You need to upgrade your plan to watch this movie\n",
      "Premium\n",
      "Watch Now\n"
     ]
    }
   ],
   "source": [
    "print(\"Practicing Classes in Python\")\n",
    "\n",
    "class Clients(): #Creating users class for an app to watch movies like Netflix.\n",
    "    def __init__(self, fname, lname, email, plan):   #class properties\n",
    "        self.fname = fname\n",
    "        self.lname = lname\n",
    "        self.email = email\n",
    "        self.plan_list = [\"Basic\", \"Premium\"]\n",
    "        if plan in self.plan_list:\n",
    "            self.plan = plan\n",
    "\n",
    "        else:\n",
    "            raise Exception(\"Invalid Plan\")\n",
    "\n",
    "    def change_plan(self, new_plan):   #Creating a function if the users wants to change their plan\n",
    "        if new_plan in self.plan_list:\n",
    "            self.plan = new_plan\n",
    "\n",
    "        else:\n",
    "            print(\"Invalid Plan\")\n",
    "\n",
    "    #Creating a method to define if the user is eligible to watch this movie or not\n",
    "    def watch_movie(self, movie_name, movie_plan): \n",
    "        if self.plan == movie_plan:\n",
    "            print(\"Watch Now\")\n",
    "        elif self.plan == \"Premium\":\n",
    "            print(\"Watch Now\")\n",
    "        elif self.plan == \"Basic\" and movie_plan == \"Premium\":\n",
    "            print(\"You need to upgrade your plan to watch this movie\")\n",
    "\n",
    "        else:\n",
    "            print(\"Invalid Plan\")\n",
    "\n",
    "#You can create as many users as you want...      \n",
    "client01 = Clients(\"Mohamed\", \"Fawzi\", \"modyreturn@gmail.com\", \"Basic\")\n",
    "client02 = Clients(\"Jasmin\", \"Mohamed\", \"jasmin@gmail.com\", \"Premium\")\n",
    "client03 = Clients(\"Adam\", \"Mohamed\", \"adam@gmail.com\", \"Basic\")\n",
    "\n",
    "print(\"Welcome\",client01.fname,\"You have a\", client01.plan, \"plan, Enjoy!\")\n",
    "\n",
    "client01.watch_movie(\"The beekeeper\", \"Premium\") #is ti check if the user can watch this movie...\n",
    "\n",
    "client01.change_plan(\"Premium\")\n",
    "print(client01.plan)      #the user upgraded his plan and now he can watch the movie\n",
    "client01.watch_movie(\"The beekeeper\", \"Premium\")\n"
   ]
  },
  {
   "cell_type": "code",
   "execution_count": null,
   "id": "80d4938f-2678-432b-8701-aff565177b8b",
   "metadata": {},
   "outputs": [],
   "source": []
  },
  {
   "cell_type": "code",
   "execution_count": null,
   "id": "c6cd2df1-39c5-44b0-9f5b-9283afa1d3fb",
   "metadata": {},
   "outputs": [],
   "source": []
  },
  {
   "cell_type": "code",
   "execution_count": null,
   "id": "3efdf8f3-3435-4118-9cf0-1b345fff92bd",
   "metadata": {},
   "outputs": [],
   "source": []
  }
 ],
 "metadata": {
  "kernelspec": {
   "display_name": "Python 3 (ipykernel)",
   "language": "python",
   "name": "python3"
  },
  "language_info": {
   "codemirror_mode": {
    "name": "ipython",
    "version": 3
   },
   "file_extension": ".py",
   "mimetype": "text/x-python",
   "name": "python",
   "nbconvert_exporter": "python",
   "pygments_lexer": "ipython3",
   "version": "3.12.4"
  }
 },
 "nbformat": 4,
 "nbformat_minor": 5
}
